{
 "cells": [
  {
   "cell_type": "markdown",
   "id": "529b08fe",
   "metadata": {},
   "source": [
    "# Data Science Tools and Ecosystem"
   ]
  },
  {
   "cell_type": "markdown",
   "id": "68f41263",
   "metadata": {},
   "source": [
    "Introduction"
   ]
  },
  {
   "cell_type": "markdown",
   "id": "35fb6947",
   "metadata": {},
   "source": [
    "In this notebook, Data Science Tools and Ecosystem are summarized"
   ]
  },
  {
   "cell_type": "markdown",
   "id": "97fa5b57",
   "metadata": {},
   "source": [
    "**Objectives**"
   ]
  },
  {
   "cell_type": "markdown",
   "id": "35a368c6",
   "metadata": {},
   "source": [
    "* List common languages for Data Science\n",
    "* List common libraries for Data Science\n",
    "* Create single table for common tools for Data Science\n",
    "* Evaluate arithmetic expression in python\n",
    "* Convert minutes to hours in python"
   ]
  },
  {
   "cell_type": "markdown",
   "id": "c0df9ff0",
   "metadata": {},
   "source": [
    "**List of Data Science languages**"
   ]
  },
  {
   "cell_type": "markdown",
   "id": "6c4b6c2c",
   "metadata": {},
   "source": [
    "Some of the popular languages that Data Scientists use are:"
   ]
  },
  {
   "cell_type": "markdown",
   "id": "bbd5fa61",
   "metadata": {},
   "source": [
    "1. Python\n",
    "2. Javascript\n",
    "3. C+\n",
    "4. R\n",
    "5. Julia\n",
    "6. Scala"
   ]
  },
  {
   "cell_type": "markdown",
   "id": "47497024",
   "metadata": {},
   "source": [
    "**List of Data Science Libraries**"
   ]
  },
  {
   "cell_type": "markdown",
   "id": "1aee4862",
   "metadata": {},
   "source": [
    "Some of the commonly used libraries used by Data Scientists include:"
   ]
  },
  {
   "cell_type": "markdown",
   "id": "f497e940",
   "metadata": {},
   "source": [
    "1. Numpy\n",
    "2. Pandas\n",
    "3. Scikit-learn\n",
    "4. TensorFlow\n",
    "5. PyTorch\n",
    "6. SciPy"
   ]
  },
  {
   "cell_type": "markdown",
   "id": "a56e8d48",
   "metadata": {},
   "source": [
    "**List of Data Science Tools**"
   ]
  },
  {
   "cell_type": "markdown",
   "id": "2ac669e3",
   "metadata": {},
   "source": [
    "|Data Science Tools|\n",
    "-------------------------\n",
    "|Knime|\n",
    "|Aparche Spark|\n",
    "|Python|\n",
    "|Excel|\n",
    "|Tableau|\n",
    "|TensorFlow|"
   ]
  },
  {
   "cell_type": "markdown",
   "id": "f9d809bf",
   "metadata": {},
   "source": [
    "# Examples of evaluating arithmetic expressions in Python"
   ]
  },
  {
   "cell_type": "markdown",
   "id": "e77a4afa",
   "metadata": {},
   "source": [
    "*This creates a simple arithmetic expression to mutiply and add integers*"
   ]
  },
  {
   "cell_type": "code",
   "execution_count": 3,
   "id": "c34163e4",
   "metadata": {},
   "outputs": [
    {
     "data": {
      "text/plain": [
       "107"
      ]
     },
     "execution_count": 3,
     "metadata": {},
     "output_type": "execute_result"
    }
   ],
   "source": [
    "(16*5)+27"
   ]
  },
  {
   "cell_type": "markdown",
   "id": "9e80d97d",
   "metadata": {},
   "source": [
    "*This will convert 200 minutes to hours by diving by 60*"
   ]
  },
  {
   "cell_type": "code",
   "execution_count": 1,
   "id": "5df3abc7",
   "metadata": {},
   "outputs": [
    {
     "data": {
      "text/plain": [
       "6.1"
      ]
     },
     "execution_count": 1,
     "metadata": {},
     "output_type": "execute_result"
    }
   ],
   "source": [
    "366/60"
   ]
  },
  {
   "cell_type": "markdown",
   "id": "f403dd8f",
   "metadata": {},
   "source": [
    "# Author"
   ]
  },
  {
   "cell_type": "markdown",
   "id": "976857ec",
   "metadata": {},
   "source": [
    "Romanus Onyedikachi Nnaji"
   ]
  },
  {
   "cell_type": "code",
   "execution_count": null,
   "id": "23468442",
   "metadata": {},
   "outputs": [],
   "source": []
  }
 ],
 "metadata": {
  "kernelspec": {
   "display_name": "Python 3 (ipykernel)",
   "language": "python",
   "name": "python3"
  },
  "language_info": {
   "codemirror_mode": {
    "name": "ipython",
    "version": 3
   },
   "file_extension": ".py",
   "mimetype": "text/x-python",
   "name": "python",
   "nbconvert_exporter": "python",
   "pygments_lexer": "ipython3",
   "version": "3.10.4"
  }
 },
 "nbformat": 4,
 "nbformat_minor": 5
}
